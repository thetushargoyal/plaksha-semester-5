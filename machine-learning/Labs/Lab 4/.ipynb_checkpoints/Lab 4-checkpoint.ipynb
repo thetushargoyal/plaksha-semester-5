{
 "cells": [
  {
   "cell_type": "markdown",
   "metadata": {},
   "source": [
    "### Instructions:\n",
    "* You need to code in this jupyter notebook only.\n",
    "* Download this notebokk and import in your jupyter lab.\n",
    "* You need to write a partial code for step 0 to step 8 mentioned with prefix ##\n",
    "* Fill the blanks where it is instructed in comments. \n",
    "* Leave other codes, structure as it is.\n",
    "* Follow all the instructions commented in a cells.\n",
    "* Upload this jupyter notebook after completion with your partial code.\n",
    "* Also upload the resulting image showing all the selected points and boundary line between them after LDA analysis.\n",
    "* Duetime: 1:30 PM "
   ]
  },
  {
   "cell_type": "code",
   "execution_count": 1,
   "metadata": {},
   "outputs": [],
   "source": [
    "import numpy as np\n",
    "import cv2\n",
    "import matplotlib\n",
    "import matplotlib.pyplot as plt\n",
    "from sklearn.discriminant_analysis import LinearDiscriminantAnalysis as LDA\n",
    "matplotlib.use('TkAgg')\n"
   ]
  },
  {
   "cell_type": "code",
   "execution_count": 2,
   "metadata": {},
   "outputs": [],
   "source": [
    "Number_of_points = 20  \n",
    "img = cv2.imread('/Users/tushargoyal/Documents/GitHub/plaksha-ug-semester-5/machine-learning/Labs/Lab 4/Indian_Flag.jpg')  # Replace 'your_image_path.jpg' with the actual image path\n",
    "def select_points(img, title):\n",
    "    fig, ax = plt.subplots()\n",
    "    img_rgb = cv2.cvtColor(img, cv2.COLOR_BGR2RGB)\n",
    "    plt.imshow(img_rgb)\n",
    "    plt.title(title)\n",
    "    fig.canvas.manager.set_window_title('Select Points')\n",
    "    cursor = matplotlib.widgets.Cursor(ax, useblit=True, color='red', linewidth=1)\n",
    "    plt.show(block=False)  \n",
    "    k = 0\n",
    "    points = []  \n",
    "    while k < Number_of_points:\n",
    "        xy = plt.ginput(1, timeout=0)  \n",
    "        if len(xy) > 0:\n",
    "            col, row = map(int, xy[0])  \n",
    "            rgb_value = img[row, col]\n",
    "            print(f\"RGB at ({col}, {row}): {rgb_value}\")\n",
    "            k += 1\n",
    "            points.append([row, col, img[row, col]]) \n",
    "            plt.scatter(col, row, c='black', marker='o', s=10)\n",
    "            plt.draw()\n",
    "    plt.close()  \n",
    "    return points  "
   ]
  },
  {
   "cell_type": "code",
   "execution_count": null,
   "metadata": {},
   "outputs": [
    {
     "name": "stdout",
     "output_type": "stream",
     "text": [
      "RGB at (551, 282): [ 12  82 236]\n",
      "RGB at (589, 288): [ 15  85 246]\n",
      "RGB at (614, 287): [ 10  84 250]\n",
      "RGB at (643, 285): [  6  77 244]\n",
      "RGB at (601, 273): [ 18  84 243]\n",
      "RGB at (601, 332): [217 206 209]\n"
     ]
    }
   ],
   "source": [
    "\n",
    "pts_saffron = select_points(img, \"Select Points from Saffron Strip\")\n",
    "pts_white = select_points(img, \"Select Points from White Strip\")\n",
    "\n",
    "## Step6: fill the blanks for Selected points from green strip\n",
    "pts_green = select_points(img, \"Select Points from Green Strip\")\n",
    "##-----------------------------------------------------------------\n"
   ]
  },
  {
   "cell_type": "code",
   "execution_count": null,
   "metadata": {},
   "outputs": [],
   "source": [
    "# Convert RGB values to Lab color space\n",
    "def rgb_to_lab(rgb):\n",
    "    return cv2.cvtColor(np.uint8([[rgb]]), cv2.COLOR_RGB2Lab)[0][0]\n",
    "\n",
    "saffron_lab = np.array([rgb_to_lab(rgb) for _, _, rgb in pts_saffron])\n",
    "white_lab = np.array([rgb_to_lab(rgb) for _, _, rgb in pts_white])\n",
    "green_lab = np.array([rgb_to_lab(rgb) for _, _, rgb in pts_green])\n",
    "\n",
    "## Step7: Extract a* and b* components from Lab color space\n",
    "a_features_saffron = saffron_lab[:, 1]  # Extract the a* component for saffron strip\n",
    "b_features_saffron = saffron_lab[:, 2]  # Extract the b* component for saffron strip\n",
    "\n",
    "a_features_white = white_lab[:, 1]      # Extract the a* component for white strip\n",
    "b_features_white = white_lab[:, 2]      # Extract the b* component for white strip\n",
    "\n",
    "a_features_green = green_lab[:, 1]      # Extract the a* component for green strip\n",
    "b_features_green = green_lab[:, 2]      # Extract the b* component for green strip\n",
    "\n",
    "# Stack the extracted features for all strips\n",
    "a_features = np.hstack((a_features_saffron, a_features_white, a_features_green))\n",
    "b_features = np.hstack((b_features_saffron, b_features_white, b_features_green))"
   ]
  },
  {
   "cell_type": "code",
   "execution_count": null,
   "metadata": {},
   "outputs": [],
   "source": [
    "# Map class labels to numeric values\n",
    "class_mapping = {'Saffron': 0, 'White': 1, 'Green': 2}\n",
    "y = np.array([class_mapping[label] for label in ['Saffron'] * Number_of_points + ['White'] * Number_of_points + ['Green'] * Number_of_points])\n",
    "\n",
    "# Plot the LDA result\n",
    "plt.figure()\n",
    "plt.scatter(a_features[:Number_of_points], b_features[:Number_of_points], c='b', marker='o', s=50, label='Saffron')\n",
    "plt.scatter(a_features[Number_of_points:2*Number_of_points], b_features[Number_of_points:2*Number_of_points], c='g', marker='^', s=50, label='White')\n",
    "plt.scatter(a_features[2*Number_of_points:], b_features[2*Number_of_points:], c='r', marker='*', s=50, label='Green')\n",
    "plt.legend(['Saffron', 'White', 'Green'], loc='best')\n",
    "plt.xlabel('color dimension ranging from green (-a*) to red (+a*)')  ## Provide x label\n",
    "plt.ylabel('color dimension ranging from blue (-b*) to yellow (+b*)')  ## Provide y label\n",
    "plt.title('LDA Analysis')  ## Provide title\n",
    "plt.grid()\n",
    "plt.show()\n",
    "\n",
    "##------------------------------------------------------------\n",
    "# Step 8: Perform LDA analysis using LinearDiscriminantAnalysis() and lda.fit()\n",
    "lda = LDA()\n",
    "lda.fit(np.column_stack((a_features, b_features)), y)\n",
    "\n",
    "##-----------------------------------------------------------\n",
    "\n"
   ]
  },
  {
   "cell_type": "code",
   "execution_count": null,
   "metadata": {},
   "outputs": [],
   "source": [
    "# Plot LDA boundaries\n",
    "plt.figure()\n",
    "plt.scatter(a_features[:Number_of_points], b_features[:Number_of_points], c='b', marker='o', s=50, label='Saffron')\n",
    "plt.scatter(a_features[Number_of_points:2*Number_of_points], b_features[Number_of_points:2*Number_of_points], c='g', marker='^', s=50, label='White')\n",
    "plt.scatter(a_features[2*Number_of_points:], b_features[2*Number_of_points:], c='r', marker='*', s=50, label='Green')\n",
    "\n",
    "plt.xlabel('color dimension ranging from green (-a*) to red (+a*)')  ## Provide x label\n",
    "plt.ylabel('color dimension ranging from blue (-b*) to yellow (+b*)')  ## Provide y label\n",
    "plt.title('LDA boundaries (linear model) for Colors of the Indian Flag')\n",
    "\n",
    "# Plot the decision boundaries\n",
    "ax = plt.gca()\n",
    "xlim = ax.get_xlim()\n",
    "ylim = ax.get_ylim()\n",
    "\n",
    "xx, yy = np.meshgrid(np.linspace(xlim[0], xlim[1], 100), np.linspace(ylim[0], ylim[1], 100))\n",
    "Z = lda.predict(np.c_[xx.ravel(), yy.ravel()])\n",
    "Z = Z.reshape(xx.shape)\n",
    "\n",
    "plt.contour(xx, yy, Z, colors='k', linewidths=2, linestyles='solid')\n",
    "plt.legend(loc='best')\n",
    "plt.grid()\n",
    "plt.show()"
   ]
  }
 ],
 "metadata": {
  "kernelspec": {
   "display_name": "Python 3 (ipykernel)",
   "language": "python",
   "name": "python3"
  },
  "language_info": {
   "codemirror_mode": {
    "name": "ipython",
    "version": 3
   },
   "file_extension": ".py",
   "mimetype": "text/x-python",
   "name": "python",
   "nbconvert_exporter": "python",
   "pygments_lexer": "ipython3",
   "version": "3.10.9"
  }
 },
 "nbformat": 4,
 "nbformat_minor": 2
}
